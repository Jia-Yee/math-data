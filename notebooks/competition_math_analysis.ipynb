{
 "cells": [
  {
   "cell_type": "markdown",
   "id": "dataset_analysis",
   "metadata": {},
   "source": [
    "# Competition Math 数据集分析\n",
    "\n",
    "## 简介\n",
    "\n",
    "本notebook用于分析从Hugging Face下载的competition_math数据集。该数据集包含来自数学竞赛的问题，如AMC 10、AMC 12、AIME等，每个问题都有完整的逐步解答。\n",
    "\n",
    "数据集来源: https://huggingface.co/datasets/qwedsacf/competition_math"
   ]
  },
  {
   "cell_type": "code",
   "execution_count": null,
   "id": "setup",
   "metadata": {},
   "outputs": [],
   "source": [
    "# 导入必要的库\n",
    "import os\n",
    "import pandas as pd\n",
    "import numpy as np\n",
    "import matplotlib.pyplot as plt\n",
    "import seaborn as sns\n",
    "from collections import Counter\n",
    "import pyarrow.parquet as pq\n",
    "\n",
    "# 设置中文字体支持\n",
    "plt.rcParams['font.sans-serif'] = ['SimHei', 'Arial Unicode MS', 'DejaVu Sans']\n",
    "plt.rcParams['axes.unicode_minus'] = False\n",
    "\n",
    "# 设置图形样式\n",
    "sns.set_style(\"whitegrid\")\n",
    "%matplotlib inline"
   ]
  },
  {
   "cell_type": "markdown",
   "id": "data_loading",
   "metadata": {},
   "source": [
    "## 数据加载\n",
    "\n",
    "让我们加载competition_math数据集并查看其基本结构。"
   ]
  },
  {
   "cell_type": "code",
   "execution_count": null,
   "id": "load_data",
   "metadata": {},
   "outputs": [],
   "source": [
    "# 定义数据集路径\n",
    "dataset_path = \"/Users/jia/datasets/competition_math\"\n",
    "parquet_file = os.path.join(dataset_path, \"data\", \"train-00000-of-00001-7320a6f3aba8ebd2.parquet\")\n",
    "\n",
    "# 检查数据集路径是否存在\n",
    "print(\"=== 数据集信息 ===\")\n",
    "print(f\"数据集路径: {dataset_path}\")\n",
    "print(f\"路径是否存在: {os.path.exists(dataset_path)}\")\n",
    "print(f\"Parquet文件是否存在: {os.path.exists(parquet_file)}\")\n",
    "\n",
    "# 加载数据\n",
    "print(\"\\n=== 加载数据 ===\")\n",
    "table = pq.read_table(parquet_file)\n",
    "df = table.to_pandas()\n",
    "\n",
    "print(f\"数据集形状: {df.shape}\")\n",
    "print(f\"列名: {list(df.columns)}\")\n",
    "print(f\"数据类型:\\n{df.dtypes}\")"
   ]
  },
  {
   "cell_type": "markdown",
   "id": "data_overview",
   "metadata": {},
   "source": [
    "## 数据概览\n",
    "\n",
    "现在让我们查看数据的基本统计信息和前几行记录。"
   ]
  },
  {
   "cell_type": "code",
   "execution_count": null,
   "id": "data_overview_code",
   "metadata": {},
   "outputs": [],
   "source": [
    "# 显示数据集基本信息\n",
    "print(\"=== 数据集基本信息 ===\")\n",
    "print(f\"总记录数: {len(df)}\")\n",
    "print(f\"列数: {len(df.columns)}\")\n",
    "print(f\"缺失值:\\n{df.isnull().sum()}\")\n",
    "\n",
    "# 显示前5行数据\n",
    "print(\"\\n=== 前5行数据 ===\")\n",
    "df.head()"
   ]
  },
  {
   "cell_type": "markdown",
   "id": "statistical_analysis",
   "metadata": {},
   "source": [
    "## 统计分析\n",
    "\n",
    "让我们对数据集进行详细的统计分析，包括问题类型分布和难度等级分布。"
   ]
  },
  {
   "cell_type": "code",
   "execution_count": null,
   "id": "statistical_analysis_code",
   "metadata": {},
   "outputs": [],
   "source": [
    "# 问题类型分布\n",
    "print(\"=== 问题类型分布 ===\")\n",
    "type_counts = df['type'].value_counts()\n",
    "type_percentages = df['type'].value_counts(normalize=True) * 100\n",
    "\n",
    "type_distribution = pd.DataFrame({\n",
    "    '数量': type_counts,\n",
    "    '百分比': type_percentages\n",
    "})\n",
    "print(type_distribution)\n",
    "\n",
    "# 难度等级分布\n",
    "print(\"\\n=== 难度等级分布 ===\")\n",
    "level_counts = df['level'].value_counts()\n",
    "level_percentages = df['level'].value_counts(normalize=True) * 100\n",
    "\n",
    "level_distribution = pd.DataFrame({\n",
    "    '数量': level_counts,\n",
    "    '百分比': level_percentages\n",
    "})\n",
    "print(level_distribution)\n",
    "\n",
    "# 问题类型和难度等级交叉分析\n",
    "print(\"\\n=== 问题类型和难度等级交叉分布 ===\")\n",
    "cross_tab = pd.crosstab(df['type'], df['level'], margins=True)\n",
    "print(cross_tab)"
   ]
  },
  {
   "cell_type": "markdown",
   "id": "visualization",
   "metadata": {},
   "source": [
    "## 数据可视化\n",
    "\n",
    "通过图表更直观地展示数据分布。"
   ]
  },
  {
   "cell_type": "code",
   "execution_count": null,
   "id": "visualization_code",
   "metadata": {},
   "outputs": [],
   "source": [
    "# 创建图表\n",
    "fig, axes = plt.subplots(2, 2, figsize=(15, 12))\n",
    "fig.suptitle('Competition Math 数据集分析', fontsize=16)\n",
    "\n",
    "# 问题类型分布饼图\n",
    "axes[0, 0].pie(type_counts.values, labels=type_counts.index, autopct='%1.1f%%', startangle=90)\n",
    "axes[0, 0].set_title('问题类型分布')\n",
    "\n",
    "# 难度等级分布柱状图\n",
    "axes[0, 1].bar(level_counts.index, level_counts.values, color='skyblue')\n",
    "axes[0, 1].set_title('难度等级分布')\n",
    "axes[0, 1].set_xlabel('难度等级')\n",
    "axes[0, 1].set_ylabel('问题数量')\n",
    "\n",
    "# 问题类型分布柱状图\n",
    "axes[1, 0].barh(type_counts.index, type_counts.values, color='lightgreen')\n",
    "axes[1, 0].set_title('问题类型分布')\n",
    "axes[1, 0].set_xlabel('问题数量')\n",
    "axes[1, 0].set_ylabel('问题类型')\n",
    "\n",
    "# 热力图显示类型和难度的交叉分布\n",
    "cross_tab_no_margins = pd.crosstab(df['type'], df['level'])\n",
    "sns.heatmap(cross_tab_no_margins, annot=True, fmt='d', cmap='Blues', ax=axes[1, 1])\n",
    "axes[1, 1].set_title('问题类型和难度等级交叉分布')\n",
    "axes[1, 1].set_xlabel('难度等级')\n",
    "axes[1, 1].set_ylabel('问题类型')\n",
    "\n",
    "plt.tight_layout()\n",
    "plt.show()"
   ]
  },
  {
   "cell_type": "markdown",
   "id": "detailed_samples",
   "metadata": {},
   "source": [
    "## 详细样本展示\n",
    "\n",
    "现在让我们查看一些具体的问题和解答样本。"
   ]
  },
  {
   "cell_type": "code",
   "execution_count": null,
   "id": "detailed_samples_code",
   "metadata": {},
   "outputs": [],
   "source": [
    "def show_samples(df, n=3):\n",
    "    \"\"\"\n",
    "    显示数据集中的样本\n",
    "    \"\"\"\n",
    "    print(f\"=== 显示 {n} 个样本 ===\")\n",
    "    \n",
    "    # 随机选择样本\n",
    "    samples = df.sample(n=n, random_state=42)\n",
    "    \n",
    "    for i, (index, row) in enumerate(samples.iterrows(), 1):\n",
    "        print(f\"\\n--- 样本 {i} (索引: {index}) ---\")\n",
    "        print(f\"问题类型: {row['type']}\")\n",
    "        print(f\"难度等级: {row['level']}\")\n",
    "        print(f\"问题: {row['problem']}\")\n",
    "        print(f\"解答: {row['solution']}\")\n",
    "        print(\"-\" * 50)\n",
    "\n",
    "# 显示样本\n",
    "show_samples(df, 3)"
   ]
  },
  {
   "cell_type": "markdown",
   "id": "type_specific_samples",
   "metadata": {},
   "source": [
    "## 按类型查看样本\n",
    "\n",
    "让我们按不同类型查看一些样本。"
   ]
  },
  {
   "cell_type": "code",
   "execution_count": null,
   "id": "type_specific_samples_code",
   "metadata": {},
   "outputs": [],
   "source": [
    "def show_type_samples(df, problem_type, n=2):\n",
    "    \"\"\"\n",
    "    按问题类型显示样本\n",
    "    \"\"\"\n",
    "    print(f\"=== {problem_type} 类型样本 ===\")\n",
    "    \n",
    "    # 筛选特定类型的问题\n",
    "    type_df = df[df['type'] == problem_type]\n",
    "    \n",
    "    # 选择不同难度等级的样本\n",
    "    samples = []\n",
    "    for level in sorted(type_df['level'].unique()):\n",
    "        level_samples = type_df[type_df['level'] == level]\n",
    "        if not level_samples.empty:\n",
    "            sample = level_samples.sample(n=1, random_state=42).iloc[0]\n",
    "            samples.append(sample)\n",
    "            if len(samples) >= n:\n",
    "                break\n",
    "    \n",
    "    for i, sample in enumerate(samples, 1):\n",
    "        print(f\"\\n--- 样本 {i} ---\")\n",
    "        print(f\"难度等级: {sample['level']}\")\n",
    "        print(f\"问题: {sample['problem']}\")\n",
    "        print(f\"解答: {sample['solution']}\")\n",
    "        print(\"-\" * 50)\n",
    "\n",
    "# 显示不同类型的问题样本\n",
    "for problem_type in ['Algebra', 'Geometry', 'Number Theory']:\n",
    "    show_type_samples(df, problem_type, 2)\n",
    "    print()\n",
    "    print()"
   ]
  },
  {
   "cell_type": "markdown",
   "id": "difficulty_specific_samples",
   "metadata": {},
   "source": [
    "## 按难度查看样本\n",
    "\n",
    "让我们按不同难度等级查看一些样本。"
   ]
  },
  {
   "cell_type": "code",
   "execution_count": null,
   "id": "difficulty_specific_samples_code",
   "metadata": {},
   "outputs": [],
   "source": [
    "def show_level_samples(df, level, n=2):\n",
    "    \"\"\"\n",
    "    按难度等级显示样本\n",
    "    \"\"\"\n",
    "    print(f\"=== {level} 难度等级样本 ===\")\n",
    "    \n",
    "    # 筛选特定难度等级的问题\n",
    "    level_df = df[df['level'] == level]\n",
    "    \n",
    "    # 选择不同类型的样本\n",
    "    samples = []\n",
    "    for problem_type in level_df['type'].unique()[:n]:\n",
    "        type_samples = level_df[level_df['type'] == problem_type]\n",
    "        if not type_samples.empty:\n",
    "            sample = type_samples.sample(n=1, random_state=42).iloc[0]\n",
    "            samples.append(sample)\n",
    "    \n",
    "    for i, sample in enumerate(samples, 1):\n",
    "        print(f\"\\n--- 样本 {i} ---\")\n",
    "        print(f\"问题类型: {sample['type']}\")\n",
    "        print(f\"问题: {sample['problem']}\")\n",
    "        print(f\"解答: {sample['solution']}\")\n",
    "        print(\"-\" * 50)\n",
    "\n",
    "# 显示不同难度等级的问题样本\n",
    "for level in ['Level 1', 'Level 3', 'Level 5']:\n",
    "    show_level_samples(df, level, 2)\n",
    "    print()\n",
    "    print()"
   ]
  },
  {
   "cell_type": "markdown",
   "id": "text_analysis",
   "metadata": {},
   "source": [
    "## 文本分析\n",
    "\n",
    "让我们对问题和解答的文本进行一些基本分析。"
   ]
  },
  {
   "cell_type": "code",
   "execution_count": null,
   "id": "text_analysis_code",
   "metadata": {},
   "outputs": [],
   "source": [
    "# 计算问题和解答的长度\n",
    "df['problem_length'] = df['problem'].str.len()\n",
    "df['solution_length'] = df['solution'].str.len()\n",
    "\n",
    "print(\"=== 文本长度统计 ===\")\n",
    "print(\"问题长度统计:\")\n",
    "print(df['problem_length'].describe())\n",
    "print(\"\\n解答长度统计:\")\n",
    "print(df['solution_length'].describe())\n",
    "\n",
    "# 按类型分析文本长度\n",
    "print(\"\\n=== 按问题类型分析文本长度 ===\")\n",
    "type_length_stats = df.groupby('type')[['problem_length', 'solution_length']].mean()\n",
    "print(type_length_stats)\n",
    "\n",
    "# 按难度等级分析文本长度\n",
    "print(\"\\n=== 按难度等级分析文本长度 ===\")\n",
    "level_length_stats = df.groupby('level')[['problem_length', 'solution_length']].mean()\n",
    "print(level_length_stats)"
   ]
  },
  {
   "cell_type": "markdown",
   "id": "summary",
   "metadata": {},
   "source": [
    "## 总结\n",
    "\n",
    "### 数据集概览\n",
    "\n",
    "1. **数据规模**: competition_math数据集包含12,500个数学问题\n",
    "2. **字段信息**: \n",
    "   - problem: 数学问题描述\n",
    "   - level: 难度等级(Level 1-5)\n",
    "   - type: 问题类型(Algebra, Geometry等)\n",
    "   - solution: 详细解题过程\n",
    "\n",
    "### 问题类型分布\n",
    "1. **代数 (Algebra)**: 2,931个问题(23.4%)\n",
    "2. **中等代数 (Intermediate Algebra)**: 2,198个问题(17.6%)\n",
    "3. **基础代数 (Prealgebra)**: 2,076个问题(16.6%)\n",
    "4. **数论 (Number Theory)**: 1,409个问题(11.3%)\n",
    "5. **几何 (Geometry)**: 1,349个问题(10.8%)\n",
    "6. **预微积分 (Precalculus)**: 1,292个问题(10.3%)\n",
    "7. **计数与概率 (Counting & Probability)**: 1,245个问题(10.0%)\n",
    "\n",
    "### 难度等级分布\n",
    "1. **Level 5**: 3,628个问题(29.0%)\n",
    "2. **Level 4**: 2,904个问题(23.2%)\n",
    "3. **Level 3**: 2,723个问题(21.8%)\n",
    "4. **Level 2**: 2,242个问题(17.9%)\n",
    "5. **Level 1**: 1,001个问题(8.0%)\n",
    "\n",
    "### 数据特点\n",
    "1. **高质量数据**: 每个问题都有完整的逐步解答\n",
    "2. **多样性**: 涵盖多个数学领域和不同难度等级\n",
    "3. **教育价值**: 适合用于训练数学问题解决AI模型\n",
    "4. **研究价值**: 可用于评估AI模型的数学推理能力\n",
    "\n",
    "这个数据集非常适合用于训练和评估需要复杂数学推理能力的AI模型。"
   ]
  }
 ],
 "metadata": {
  "kernelspec": {
   "display_name": "Python 3",
   "language": "python",
   "name": "python3"
  },
  "language_info": {
   "codemirror_mode": {
    "name": "ipython",
    "version": 3
   },
   "file_extension": ".py",
   "mimetype": "text/x-python",
   "name": "python",
   "nbconvert_exporter": "python",
   "pygments_lexer": "ipython3",
   "version": "3.12.12"
  }
 },
 "nbformat": 4,
 "nbformat_minor": 5
}