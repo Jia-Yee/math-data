{
 "cells": [
  {
   "cell_type": "markdown",
   "metadata": {},
   "source": [
    "# NuminaMath-CoT 数据集分析\n",
    "\n",
    "这个notebook用于分析NuminaMath-CoT数据集，这是一个包含860k+数学竞赛问题-解答对的数据集，每个解答都使用了思维链 (Chain of Thought, CoT) 推理模板。数据集的来源包括中国高中数学练习题、美国和国际数学奥林匹克竞赛题。"
   ]
  },
  {
   "cell_type": "code",
   "execution_count": 1,
   "metadata": {},
   "outputs": [
    {
     "name": "stdout",
     "output_type": "stream",
     "text": [
      "正在检查数据集...\n",
      "数据集路径: /Users/jia/datasets/NuminaMath-CoT\n",
      "数据路径: /Users/jia/datasets/NuminaMath-CoT/data\n"
     ]
    }
   ],
   "source": [
    "import pandas as pd\n",
    "import os\n",
    "import matplotlib.pyplot as plt\n",
    "import seaborn as sns\n",
    "\n",
    "# 设置数据集路径\n",
    "DATASET_PATH = \"/Users/jia/datasets/NuminaMath-CoT\"\n",
    "DATA_PATH = os.path.join(DATASET_PATH, \"data\")\n",
    "\n",
    "print(\"正在检查数据集...\")\n",
    "if not os.path.exists(DATASET_PATH):\n",
    "    print(f\"错误: 数据集路径 {DATASET_PATH} 不存在\")\n",
    "else:\n",
    "    print(f\"数据集路径: {DATASET_PATH}\")\n",
    "    \n",
    "if not os.path.exists(DATA_PATH):\n",
    "    print(f\"错误: 数据路径 {DATA_PATH} 不存在\")\n",
    "else:\n",
    "    print(f\"数据路径: {DATA_PATH}\")"
   ]
  },
  {
   "cell_type": "code",
   "execution_count": 2,
   "metadata": {},
   "outputs": [
    {
     "name": "stdout",
     "output_type": "stream",
     "text": [
      "\n",
      "数据文件列表:\n",
      "  - train-00001-of-00005.parquet\n",
      "  - train-00000-of-00005.parquet\n",
      "  - train-00004-of-00005.parquet\n",
      "  - train-00003-of-00005.parquet\n",
      "  - test-00000-of-00001.parquet\n",
      "  - train-00002-of-00005.parquet\n",
      "\n",
      "训练集文件数量: 5\n",
      "测试集文件数量: 1\n"
     ]
    }
   ],
   "source": [
    "# 列出所有数据文件\n",
    "files = os.listdir(DATA_PATH)\n",
    "print(f\"\\n数据文件列表:\")\n",
    "for file in files:\n",
    "    print(f\"  - {file}\")\n",
    "\n",
    "# 分离训练集和测试集文件\n",
    "train_files = [f for f in files if f.startswith(\"train-\") and f.endswith(\".parquet\")]\n",
    "test_files = [f for f in files if f.startswith(\"test-\") and f.endswith(\".parquet\")]\n",
    "\n",
    "print(f\"\\n训练集文件数量: {len(train_files)}\")\n",
    "print(f\"测试集文件数量: {len(test_files)}\")"
   ]
  },
  {
   "cell_type": "code",
   "execution_count": 3,
   "metadata": {},
   "outputs": [
    {
     "name": "stdout",
     "output_type": "stream",
     "text": [
      "\n",
      "正在加载测试集: /Users/jia/datasets/NuminaMath-CoT/data/test-00000-of-00001.parquet\n",
      "测试集形状: (100, 4)\n",
      "测试集列名: ['source', 'problem', 'solution', 'messages']\n"
     ]
    }
   ],
   "source": [
    "# 加载测试集\n",
    "if test_files:\n",
    "    test_file = os.path.join(DATA_PATH, test_files[0])\n",
    "    print(f\"\\n正在加载测试集: {test_file}\")\n",
    "    test_df = pd.read_parquet(test_file)\n",
    "    print(f\"测试集形状: {test_df.shape}\")\n",
    "    print(f\"测试集列名: {list(test_df.columns)}\")"
   ]
  },
  {
   "cell_type": "code",
   "execution_count": 4,
   "metadata": {},
   "outputs": [
    {
     "name": "stdout",
     "output_type": "stream",
     "text": [
      "\n",
      "正在加载训练集文件: /Users/jia/datasets/NuminaMath-CoT/data/train-00001-of-00005.parquet\n",
      "训练集形状: (171899, 4)\n",
      "训练集列名: ['source', 'problem', 'solution', 'messages']\n"
     ]
    }
   ],
   "source": [
    "# 加载训练集\n",
    "if train_files:\n",
    "    # 只加载第一个训练集文件以节省内存\n",
    "    train_file = os.path.join(DATA_PATH, train_files[0])\n",
    "    print(f\"\\n正在加载训练集文件: {train_file}\")\n",
    "    train_df = pd.read_parquet(train_file)\n",
    "    print(f\"训练集形状: {train_df.shape}\")\n",
    "    print(f\"训练集列名: {list(train_df.columns)}\")"
   ]
  },
  {
   "cell_type": "code",
   "execution_count": 5,
   "metadata": {},
   "outputs": [
    {
     "name": "stdout",
     "output_type": "stream",
     "text": [
      "\n",
      "测试集基本信息:\n",
      "<class 'pandas.core.frame.DataFrame'>\n",
      "RangeIndex: 100 entries, 0 to 99\n",
      "Data columns (total 4 columns):\n",
      " #   Column    Non-Null Count  Dtype \n",
      "---  ------    --------------  ----- \n",
      " 0   source    100 non-null    object\n",
      " 1   problem   100 non-null    object\n",
      " 2   solution  100 non-null    object\n",
      " 3   messages  100 non-null    object\n",
      "dtypes: object(4)\n",
      "memory usage: 3.3+ KB\n",
      "None\n",
      "\n",
      "测试集前5行:\n"
     ]
    }
   ],
   "source": [
    "# 显示测试集基本信息\n",
    "if 'test_df' in locals():\n",
    "    print(\"\\n测试集基本信息:\")\n",
    "    print(test_df.info())\n",
    "    \n",
    "    print(\"\\n测试集前5行:\")\n",
    "    test_df.head()"
   ]
  },
  {
   "cell_type": "code",
   "execution_count": 6,
   "metadata": {},
   "outputs": [
    {
     "name": "stdout",
     "output_type": "stream",
     "text": [
      "\n",
      "训练集基本信息:\n",
      "<class 'pandas.core.frame.DataFrame'>\n",
      "RangeIndex: 171899 entries, 0 to 171898\n",
      "Data columns (total 4 columns):\n",
      " #   Column    Non-Null Count   Dtype \n",
      "---  ------    --------------   ----- \n",
      " 0   source    171899 non-null  object\n",
      " 1   problem   171899 non-null  object\n",
      " 2   solution  171899 non-null  object\n",
      " 3   messages  171899 non-null  object\n",
      "dtypes: object(4)\n",
      "memory usage: 5.2+ MB\n",
      "None\n",
      "\n",
      "训练集前5行:\n"
     ]
    }
   ],
   "source": [
    "# 显示训练集基本信息\n",
    "if 'train_df' in locals():\n",
    "    print(\"\\n训练集基本信息:\")\n",
    "    print(train_df.info())\n",
    "    \n",
    "    print(\"\\n训练集前5行:\")\n",
    "    train_df.head()"
   ]
  },
  {
   "cell_type": "code",
   "execution_count": 7,
   "metadata": {},
   "outputs": [
    {
     "name": "stdout",
     "output_type": "stream",
     "text": [
      "\n",
      "测试集缺失值统计:\n",
      "source      0\n",
      "problem     0\n",
      "solution    0\n",
      "messages    0\n",
      "dtype: int64\n",
      "\n",
      "训练集缺失值统计:\n",
      "source      0\n",
      "problem     0\n",
      "solution    0\n",
      "messages    0\n",
      "dtype: int64\n"
     ]
    }
   ],
   "source": [
    "# 检查数据集中的缺失值\n",
    "if 'test_df' in locals():\n",
    "    print(\"\\n测试集缺失值统计:\")\n",
    "    print(test_df.isnull().sum())\n",
    "    \n",
    "if 'train_df' in locals():\n",
    "    print(\"\\n训练集缺失值统计:\")\n",
    "    print(train_df.isnull().sum())"
   ]
  },
  {
   "cell_type": "code",
   "execution_count": 8,
   "metadata": {},
   "outputs": [
    {
     "name": "stdout",
     "output_type": "stream",
     "text": [
      "\n",
      "测试集source分布:\n",
      "source\n",
      "cn_k12            35\n",
      "synthetic_math    21\n",
      "orca_math         20\n",
      "olympiads         13\n",
      "aops_forum         3\n",
      "gsm8k              3\n",
      "synthetic_amc      3\n",
      "amc_aime           1\n",
      "math               1\n",
      "Name: count, dtype: int64\n",
      "\n",
      "训练集source分布 (样本1000条记录):\n",
      "source\n",
      "cn_k12            55383\n",
      "synthetic_math    33526\n",
      "orca_math         30473\n",
      "olympiads         30372\n",
      "synthetic_amc     12444\n",
      "aops_forum         5993\n",
      "math               1495\n",
      "gsm8k              1465\n",
      "amc_aime            748\n",
      "Name: count, dtype: int64\n"
     ]
    }
   ],
   "source": [
    "# 分析数据集中的source分布\n",
    "if 'test_df' in locals():\n",
    "    print(\"\\n测试集source分布:\")\n",
    "    print(test_df['source'].value_counts())\n",
    "    \n",
    "if 'train_df' in locals():\n",
    "    print(\"\\n训练集source分布 (样本1000条记录):\")\n",
    "    # 仅分析部分数据以节省时间\n",
    "    print(train_df['source'].value_counts().head(10))"
   ]
  },
  {
   "cell_type": "code",
   "execution_count": 9,
   "metadata": {},
   "outputs": [
    {
     "name": "stdout",
     "output_type": "stream",
     "text": [
      "\n",
      "测试集问题和解答长度统计:\n",
      "       problem_length  solution_length\n",
      "count      100.000000       100.000000\n",
      "mean       265.090000      1118.650000\n",
      "std        177.554265       692.277465\n",
      "min         25.000000       125.000000\n",
      "25%        147.000000       641.250000\n",
      "50%        222.500000       938.000000\n",
      "75%        331.250000      1392.750000\n",
      "max       1069.000000      3400.000000\n",
      "\n",
      "训练集问题和解答长度统计 (样本1000条记录):\n",
      "       problem_length  solution_length\n",
      "count     1000.000000      1000.000000\n",
      "mean       251.726000      1214.167000\n",
      "std        176.973808       723.450943\n",
      "min         24.000000        53.000000\n",
      "25%        143.500000       677.000000\n",
      "50%        210.000000      1014.500000\n",
      "75%        304.250000      1612.500000\n",
      "max       1731.000000      4504.000000\n"
     ]
    }
   ],
   "source": [
    "# 分析问题和解答的长度\n",
    "if 'test_df' in locals():\n",
    "    test_df['problem_length'] = test_df['problem'].str.len()\n",
    "    test_df['solution_length'] = test_df['solution'].str.len()\n",
    "    \n",
    "    print(\"\\n测试集问题和解答长度统计:\")\n",
    "    print(test_df[['problem_length', 'solution_length']].describe())\n",
    "\n",
    "if 'train_df' in locals():\n",
    "    # 仅分析部分数据以节省时间\n",
    "    sample_train_df = train_df.sample(n=1000, random_state=42)\n",
    "    sample_train_df['problem_length'] = sample_train_df['problem'].str.len()\n",
    "    sample_train_df['solution_length'] = sample_train_df['solution'].str.len()\n",
    "    \n",
    "    print(\"\\n训练集问题和解答长度统计 (样本1000条记录):\")\n",
    "    print(sample_train_df[['problem_length', 'solution_length']].describe())"
   ]
  },
  {
   "cell_type": "code",
   "execution_count": 13,
   "metadata": {},
   "outputs": [
    {
     "name": "stdout",
     "output_type": "stream",
     "text": [
      "\n",
      "测试集样本数据:\n",
      "\n",
      "样本 1:\n",
      "  来源: aops_forum\n",
      "  问题: Let  $x, y$  be real numbers such that  $1\\le x^2-xy+y^2\\le2$ . Show that:\n",
      "a)  $\\dfrac{2}{9}\\le x^4+y^4\\le 8$ ;\n",
      "b)  $x^{2n}+y^{2n}\\ge\\dfrac{2}{3^n}$ , for all  $n\\ge3$ .\n",
      "\n",
      "*Laurențiu Panaitopol* and *I...\n",
      "  解答: ### Part (a)\n",
      "We need to show that:\n",
      "\\[\n",
      "\\frac{2}{9} \\le x^4 + y^4 \\le 8\n",
      "\\]\n",
      "\n",
      "1. **Lower Bound:**\n",
      "   Given \\(1 \\le x^2 - xy + y^2 \\le 2\\), we start by using the inequality:\n",
      "   \\[\n",
      "   x^4 + y^4 \\ge \\frac{2}...\n",
      "  消息数量: 2\n",
      "\n",
      "样本 2:\n",
      "  来源: cn_k12\n",
      "  问题: Given the function $f(x)=|x+1|-|x-2|$.\n",
      "$(1)$ Find the solution set of the inequality $f(x)\\geqslant 1$;\n",
      "$(2)$ If the solution set of the inequality $f(x)\\geqslant x^{2}-x+m$ is non-empty, find the ran...\n",
      "  解答: Solution:\n",
      "$(1)$ Since $f(x)=|x+1|-|x-2|=\\begin{cases} -3, & x < -1 \\\\ 2x-1, & -1\\leqslant x\\leqslant 2 \\\\ 3, & x > 2\\end{cases}$, and $f(x)\\geqslant 1$,\n",
      "Therefore, when $-1\\leqslant x\\leqslant 2$, we ...\n",
      "  消息数量: 2\n",
      "\n",
      "样本 3:\n",
      "  来源: orca_math\n",
      "  问题: two cars start from the opposite places of a main road , 150 km apart . first car runs for 25 km and takes a right turn and then runs 15 km . it then turns left and then runs for another 25 km and the...\n",
      "  解答: Let's break down the movements of the first car:\n",
      "\n",
      "1. The first car runs 25 km along the main road.\n",
      "2. It takes a right turn and runs 15 km.\n",
      "3. It takes a left turn and runs another 25 km.\n",
      "4. It then t...\n",
      "  消息数量: 2\n",
      "\n",
      "==================================================\n",
      "\n",
      "训练集样本数据:\n",
      "\n",
      "样本 1:\n",
      "  来源: orca_math\n",
      "  问题: Sara picked some pears and Tim picked 5 pears from the pear tree. They picked 11 pears in total. How many pears did Sara pick?\n",
      "  解答: If Sara and Tim picked a total of 11 pears and Tim picked 5 pears, then Sara picked:\n",
      "\n",
      "11 pears (total) - 5 pears (picked by Tim) = 6 pears (picked by Sara)\n",
      "\n",
      "So, Sara picked $\\boxed{6}$  pears.\n",
      "  消息数量: 2\n",
      "\n",
      "样本 2:\n",
      "  来源: synthetic_math\n",
      "  问题: Find the remainder when $5^{2023}$ is divided by $13$.\n",
      "  解答: First, compute \\( 5^3 \\) modulo 13:\n",
      "\\[ 5^3 = 125 = 9 \\times 13 + 8 \\]\n",
      "\\[ \\therefore 5^3 \\equiv 8 \\pmod{13} \\]\n",
      "\n",
      "Next, calculate \\( (5^3)^{674} \\) which is \\( 5^{2022} \\) modulo 13:\n",
      "\\[ 5^{2022} = (5^3)^...\n",
      "  消息数量: 2\n",
      "\n",
      "样本 3:\n",
      "  来源: synthetic_math\n",
      "  问题: If \\(3x - 2y + z = 8\\) and \\(x + 3y - 2z = 2\\), what is the value of \\(x\\)?\n",
      "  解答: To find \\(x\\), we need to eliminate \\(y\\) and \\(z\\) from the equations. Multiply the first equation by \\(3\\) and the second equation by \\(2\\):\n",
      "\\[\n",
      "3(3x - 2y + z) = 3 \\times 8 \\\\\n",
      "2(x + 3y - 2z) = 2 \\tim...\n",
      "  消息数量: 2\n"
     ]
    }
   ],
   "source": [
    "# 显示一些样本数据\n",
    "print(\"\\n测试集样本数据:\")\n",
    "if 'test_df' in locals():\n",
    "    for i in range(min(3, len(test_df))):\n",
    "        print(f\"\\n样本 {i+1}:\")\n",
    "        print(f\"  来源: {test_df.iloc[i]['source']}\")\n",
    "        print(f\"  问题: {test_df.iloc[i]['problem'][:200]}{'...' if len(test_df.iloc[i]['problem']) > 200 else ''}\")\n",
    "        print(f\"  解答: {test_df.iloc[i]['solution'][:200]}{'...' if len(test_df.iloc[i]['solution']) > 200 else ''}\")\n",
    "        if 'messages' in test_df.columns:\n",
    "            messages = test_df.iloc[i]['messages']\n",
    "            print(f\"  消息数量: {len(messages) if len(messages)>0 else 0}\")\n",
    "\n",
    "print(\"\\n\" + \"=\"*50)\n",
    "\n",
    "print(\"\\n训练集样本数据:\")\n",
    "if 'train_df' in locals():\n",
    "    for i in range(min(3, len(train_df))):\n",
    "        print(f\"\\n样本 {i+1}:\")\n",
    "        print(f\"  来源: {train_df.iloc[i]['source']}\")\n",
    "        print(f\"  问题: {train_df.iloc[i]['problem'][:200]}{'...' if len(train_df.iloc[i]['problem']) > 200 else ''}\")\n",
    "        print(f\"  解答: {train_df.iloc[i]['solution'][:200]}{'...' if len(train_df.iloc[i]['solution']) > 200 else ''}\")\n",
    "        if 'messages' in train_df.columns:\n",
    "            messages = train_df.iloc[i]['messages']\n",
    "            print(f\"  消息数量: {len(messages) if len(messages)>0 else 0}\")"
   ]
  },
  {
   "cell_type": "code",
   "execution_count": null,
   "metadata": {},
   "outputs": [],
   "source": [
    "# 数据集总结\n",
    "print(\"\\n数据集总结:\")\n",
    "print(\"=\"*50)\n",
    "\n",
    "if 'train_files' in locals() and train_files:\n",
    "    print(f\"训练集文件数量: {len(train_files)}\")\n",
    "    if 'train_df' in locals():\n",
    "        total_train_rows = len(train_files) * len(train_df)  # 估算总数\n",
    "        print(f\"训练集总样本数 (估算): {total_train_rows}\")\n",
    "        print(f\"训练集列名: {list(train_df.columns)}\")\n",
    "\n",
    "if 'test_files' in locals() and test_files:\n",
    "    print(f\"测试集文件数量: {len(test_files)}\")\n",
    "    if 'test_df' in locals():\n",
    "        print(f\"测试集总样本数: {len(test_df)}\")\n",
    "        print(f\"测试集列名: {list(test_df.columns)}\")\n",
    "\n",
    "print(\"=\"*50)\n",
    "print(\"分析完成\")"
   ]
  }
 ],
 "metadata": {
  "kernelspec": {
   "display_name": "workspace",
   "language": "python",
   "name": "python3"
  },
  "language_info": {
   "codemirror_mode": {
    "name": "ipython",
    "version": 3
   },
   "file_extension": ".py",
   "mimetype": "text/x-python",
   "name": "python",
   "nbconvert_exporter": "python",
   "pygments_lexer": "ipython3",
   "version": "3.14.0"
  }
 },
 "nbformat": 4,
 "nbformat_minor": 4
}
