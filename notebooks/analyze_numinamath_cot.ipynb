{
 "cells": [
  {
   "cell_type": "markdown",
   "metadata": {},
   "source": [
    "# NuminaMath-CoT 数据集分析\n",
    "\n",
    "这个notebook用于分析NuminaMath-CoT数据集，这是一个包含860k+数学竞赛问题-解答对的数据集，每个解答都使用了思维链 (Chain of Thought, CoT) 推理模板。数据集的来源包括中国高中数学练习题、美国和国际数学奥林匹克竞赛题。"
   ]
  },
  {
   "cell_type": "code",
   "execution_count": null,
   "metadata": {},
   "outputs": [],
   "source": [
    "import pandas as pd\n",
    "import os\n",
    "import matplotlib.pyplot as plt\n",
    "import seaborn as sns\n",
    "\n",
    "# 设置数据集路径\n",
    "DATASET_PATH = \"/Users/jia/datasets/NuminaMath-CoT\"\n",
    "DATA_PATH = os.path.join(DATASET_PATH, \"data\")\n",
    "\n",
    "print(\"正在检查数据集...\")\n",
    "if not os.path.exists(DATASET_PATH):\n",
    "    print(f\"错误: 数据集路径 {DATASET_PATH} 不存在\")\n",
    "else:\n",
    "    print(f\"数据集路径: {DATASET_PATH}\")\n",
    "    \n",
    "if not os.path.exists(DATA_PATH):\n",
    "    print(f\"错误: 数据路径 {DATA_PATH} 不存在\")\n",
    "else:\n",
    "    print(f\"数据路径: {DATA_PATH}\")"
   ]
  },
  {
   "cell_type": "code",
   "execution_count": null,
   "metadata": {},
   "outputs": [],
   "source": [
    "# 列出所有数据文件\n",
    "files = os.listdir(DATA_PATH)\n",
    "print(f\"\\n数据文件列表:\")\n",
    "for file in files:\n",
    "    print(f\"  - {file}\")\n",
    "\n",
    "# 分离训练集和测试集文件\n",
    "train_files = [f for f in files if f.startswith(\"train-\") and f.endswith(\".parquet\")]\n",
    "test_files = [f for f in files if f.startswith(\"test-\") and f.endswith(\".parquet\")]\n",
    "\n",
    "print(f\"\\n训练集文件数量: {len(train_files)}\")\n",
    "print(f\"测试集文件数量: {len(test_files)}\")"
   ]
  },
  {
   "cell_type": "code",
   "execution_count": null,
   "metadata": {},
   "outputs": [],
   "source": [
    "# 加载测试集\n",
    "if test_files:\n",
    "    test_file = os.path.join(DATA_PATH, test_files[0])\n",
    "    print(f\"\\n正在加载测试集: {test_file}\")\n",
    "    test_df = pd.read_parquet(test_file)\n",
    "    print(f\"测试集形状: {test_df.shape}\")\n",
    "    print(f\"测试集列名: {list(test_df.columns)}\")"
   ]
  },
  {
   "cell_type": "code",
   "execution_count": null,
   "metadata": {},
   "outputs": [],
   "source": [
    "# 加载训练集\n",
    "if train_files:\n",
    "    # 只加载第一个训练集文件以节省内存\n",
    "    train_file = os.path.join(DATA_PATH, train_files[0])\n",
    "    print(f\"\\n正在加载训练集文件: {train_file}\")\n",
    "    train_df = pd.read_parquet(train_file)\n",
    "    print(f\"训练集形状: {train_df.shape}\")\n",
    "    print(f\"训练集列名: {list(train_df.columns)}\")"
   ]
  },
  {
   "cell_type": "code",
   "execution_count": null,
   "metadata": {},
   "outputs": [],
   "source": [
    "# 显示测试集基本信息\n",
    "if 'test_df' in locals():\n",
    "    print(\"\\n测试集基本信息:\")\n",
    "    print(test_df.info())\n",
    "    \n",
    "    print(\"\\n测试集前5行:\")\n",
    "    test_df.head()"
   ]
  },
  {
   "cell_type": "code",
   "execution_count": null,
   "metadata": {},
   "outputs": [],
   "source": [
    "# 显示训练集基本信息\n",
    "if 'train_df' in locals():\n",
    "    print(\"\\n训练集基本信息:\")\n",
    "    print(train_df.info())\n",
    "    \n",
    "    print(\"\\n训练集前5行:\")\n",
    "    train_df.head()"
   ]
  },
  {
   "cell_type": "code",
   "execution_count": null,
   "metadata": {},
   "outputs": [],
   "source": [
    "# 检查数据集中的缺失值\n",
    "if 'test_df' in locals():\n",
    "    print(\"\\n测试集缺失值统计:\")\n",
    "    print(test_df.isnull().sum())\n",
    "    \n",
    "if 'train_df' in locals():\n",
    "    print(\"\\n训练集缺失值统计:\")\n",
    "    print(train_df.isnull().sum())"
   ]
  },
  {
   "cell_type": "code",
   "execution_count": null,
   "metadata": {},
   "outputs": [],
   "source": [
    "# 分析数据集中的source分布\n",
    "if 'test_df' in locals():\n",
    "    print(\"\\n测试集source分布:\")\n",
    "    print(test_df['source'].value_counts())\n",
    "    \n",
    "if 'train_df' in locals():\n",
    "    print(\"\\n训练集source分布 (样本1000条记录):\")\n",
    "    # 仅分析部分数据以节省时间\n",
    "    print(train_df['source'].value_counts().head(10))"
   ]
  },
  {
   "cell_type": "code",
   "execution_count": null,
   "metadata": {},
   "outputs": [],
   "source": [
    "# 分析问题和解答的长度\n",
    "if 'test_df' in locals():\n",
    "    test_df['problem_length'] = test_df['problem'].str.len()\n",
    "    test_df['solution_length'] = test_df['solution'].str.len()\n",
    "    \n",
    "    print(\"\\n测试集问题和解答长度统计:\")\n",
    "    print(test_df[['problem_length', 'solution_length']].describe())\n",
    "\n",
    "if 'train_df' in locals():\n",
    "    # 仅分析部分数据以节省时间\n",
    "    sample_train_df = train_df.sample(n=1000, random_state=42)\n",
    "    sample_train_df['problem_length'] = sample_train_df['problem'].str.len()\n",
    "    sample_train_df['solution_length'] = sample_train_df['solution'].str.len()\n",
    "    \n",
    "    print(\"\\n训练集问题和解答长度统计 (样本1000条记录):\")\n",
    "    print(sample_train_df[['problem_length', 'solution_length']].describe())"
   ]
  },
  {
   "cell_type": "code",
   "execution_count": null,
   "metadata": {},
   "outputs": [],
   "source": [
    "# 显示一些样本数据\n",
    "print(\"\\n测试集样本数据:\")\n",
    "if 'test_df' in locals():\n",
    "    for i in range(min(3, len(test_df))):\n",
    "        print(f\"\\n样本 {i+1}:\")\n",
    "        print(f\"  来源: {test_df.iloc[i]['source']}\")\n",
    "        print(f\"  问题: {test_df.iloc[i]['problem'][:200]}{'...' if len(test_df.iloc[i]['problem']) > 200 else ''}\")\n",
    "        print(f\"  解答: {test_df.iloc[i]['solution'][:200]}{'...' if len(test_df.iloc[i]['solution']) > 200 else ''}\")\n",
    "        if 'messages' in test_df.columns:\n",
    "            messages = test_df.iloc[i]['messages']\n",
    "            print(f\"  消息数量: {len(messages) if messages else 0}\")\n",
    "\n",
    "print(\"\\n\" + \"=\"*50)\n",
    "\n",
    "print(\"\\n训练集样本数据:\")\n",
    "if 'train_df' in locals():\n",
    "    for i in range(min(3, len(train_df))):\n",
    "        print(f\"\\n样本 {i+1}:\")\n",
    "        print(f\"  来源: {train_df.iloc[i]['source']}\")\n",
    "        print(f\"  问题: {train_df.iloc[i]['problem'][:200]}{'...' if len(train_df.iloc[i]['problem']) > 200 else ''}\")\n",
    "        print(f\"  解答: {train_df.iloc[i]['solution'][:200]}{'...' if len(train_df.iloc[i]['solution']) > 200 else ''}\")\n",
    "        if 'messages' in train_df.columns:\n",
    "            messages = train_df.iloc[i]['messages']\n",
    "            print(f\"  消息数量: {len(messages) if messages else 0}\")"
   ]
  },
  {
   "cell_type": "code",
   "execution_count": null,
   "metadata": {},
   "outputs": [],
   "source": [
    "# 数据集总结\n",
    "print(\"\\n数据集总结:\")\n",
    "print(\"=\"*50)\n",
    "\n",
    "if 'train_files' in locals() and train_files:\n",
    "    print(f\"训练集文件数量: {len(train_files)}\")\n",
    "    if 'train_df' in locals():\n",
    "        total_train_rows = len(train_files) * len(train_df)  # 估算总数\n",
    "        print(f\"训练集总样本数 (估算): {total_train_rows}\")\n",
    "        print(f\"训练集列名: {list(train_df.columns)}\")\n",
    "\n",
    "if 'test_files' in locals() and test_files:\n",
    "    print(f\"测试集文件数量: {len(test_files)}\")\n",
    "    if 'test_df' in locals():\n",
    "        print(f\"测试集总样本数: {len(test_df)}\")\n",
    "        print(f\"测试集列名: {list(test_df.columns)}\")\n",
    "\n",
    "print(\"=\"*50)\n",
    "print(\"分析完成\")"
   ]
  }
 ],
 "metadata": {
  "kernelspec": {
   "display_name": "Python 3",
   "language": "python",
   "name": "python3"
  },
  "language_info": {
   "codemirror_mode": {
    "name": "ipython",
    "version": 3
   },
   "file_extension": ".py",
   "mimetype": "text/x-python",
   "name": "python",
   "nbconvert_exporter": "python",
   "pygments_lexer": "ipython3",
   "version": "3.8.5"
  }
 },
 "nbformat": 4,
 "nbformat_minor": 4
}