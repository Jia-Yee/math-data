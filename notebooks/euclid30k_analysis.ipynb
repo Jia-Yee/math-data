{
 "cells": [
  {
   "cell_type": "markdown",
   "metadata": {},
   "source": [
    "# Euclid30K 数据集分析\n",
    "\n",
    "## 简介\n",
    "\n",
    "Euclid30K 是一个包含约30,000个平面和立体几何问题的多模态数据集。该数据集旨在通过欧几里得几何问题解决作为代理任务，提升多模态大语言模型（MLLMs）的空间智能能力。\n",
    "\n",
    "### 数据集特点\n",
    "1. **数据规模**：约30,000个几何问题\n",
    "2. **问题类型**：涵盖平面几何和立体几何问题\n",
    "3. **多模态**：包含图像和文本的多模态数据\n",
    "4. **语言支持**：支持英语和中文\n",
    "5. **许可证**：Apache-2.0开源许可证"
   ]
  },
  {
   "cell_type": "code",
   "execution_count": null,
   "metadata": {},
   "source": [
    "# 导入必要的库\n",
    "import pandas as pd\n",
    "import numpy as np\n",
    "import matplotlib.pyplot as plt\n",
    "import seaborn as sns\n",
    "from pathlib import Path\n",
    "import os\n",
    "\n",
    "# 设置中文字体支持\n",
    "plt.rcParams['font.sans-serif'] = ['SimHei', 'Arial Unicode MS', 'DejaVu Sans']\n",
    "plt.rcParams['axes.unicode_minus'] = False\n",
    "\n",
    "# 设置数据集路径\n",
    "DATA_PATH = \"/Users/jia/datasets/Euclid30K\"\n",
    "\n",
    "print(f\"数据集路径: {DATA_PATH}\")\n",
    "print(f\"数据集目录是否存在: {os.path.exists(DATA_PATH)}\")"
   ]
  },
  {
   "cell_type": "code",
   "execution_count": null,
   "metadata": {},
   "source": [
    "# 检查数据集文件\n",
    "data_files = list(Path(DATA_PATH).glob(\"*.parquet\"))\n",
    "print(\"数据集文件列表:\")\n",
    "for file in data_files:\n",
    "    size_mb = file.stat().st_size / (1024 * 1024)\n",
    "    print(f\"  {file.name}: {size_mb:.2f} MB\")"
   ]
  },
  {
   "cell_type": "code",
   "execution_count": null,
   "metadata": {},
   "source": [
    "# 加载验证集数据\n",
    "val_file = os.path.join(DATA_PATH, \"Euclid30K_val.parquet\")\n",
    "print(f\"正在加载验证集数据: {val_file}\")\n",
    "\n",
    "try:\n",
    "    val_df = pd.read_parquet(val_file)\n",
    "    print(f\"验证集数据加载成功，形状: {val_df.shape}\")\n",
    "except Exception as e:\n",
    "    print(f\"加载验证集数据时出错: {e}\")\n",
    "    val_df = None"
   ]
  },
  {
   "cell_type": "code",
   "execution_count": null,
   "metadata": {},
   "source": [
    "# 加载训练集数据\n",
    "train_file = os.path.join(DATA_PATH, \"Euclid30K_train.parquet\")\n",
    "print(f\"正在加载训练集数据: {train_file}\")\n",
    "\n",
    "try:\n",
    "    train_df = pd.read_parquet(train_file)\n",
    "    print(f\"训练集数据加载成功，形状: {train_df.shape}\")\n",
    "except Exception as e:\n",
    "    print(f\"加载训练集数据时出错: {e}\")\n",
    "    train_df = None"
   ]
  },
  {
   "cell_type": "markdown",
   "metadata": {},
   "source": [
    "## 数据集概览"
   ]
  },
  {
   "cell_type": "code",
   "execution_count": null,
   "metadata": {},
   "source": [
    "# 显示数据集基本信息\n",
    "if train_df is not None:\n",
    "    print(\"=== 训练集信息 ===\")\n",
    "    print(f\"数据形状: {train_df.shape}\")\n",
    "    print(f\"列数: {len(train_df.columns)}\")\n",
    "    print(f\"行数: {len(train_df)}\")\n",
    "    print()\n",
    "\n",
    "if val_df is not None:\n",
    "    print(\"=== 验证集信息 ===\")\n",
    "    print(f\"数据形状: {val_df.shape}\")\n",
    "    print(f\"列数: {len(val_df.columns)}\")\n",
    "    print(f\"行数: {len(val_df)}\")\n",
    "    print()"
   ]
  },
  {
   "cell_type": "code",
   "execution_count": null,
   "metadata": {},
   "source": [
    "# 显示列名\n",
    "if train_df is not None:\n",
    "    print(\"训练集列名:\")\n",
    "    for i, col in enumerate(train_df.columns):\n",
    "        print(f\"  {i+1}. {col}\")\n",
    "    print()\n",
    "\n",
    "if val_df is not None:\n",
    "    print(\"验证集列名:\")\n",
    "    for i, col in enumerate(val_df.columns):\n",
    "        print(f\"  {i+1}. {col}\")\n",
    "    print()"
   ]
  },
  {
   "cell_type": "markdown",
   "metadata": {},
   "source": [
    "## 数据统计分析"
   ]
  },
  {
   "cell_type": "code",
   "execution_count": null,
   "metadata": {},
   "source": [
    "# 显示数据类型\n",
    "if train_df is not None:\n",
    "    print(\"=== 训练集数据类型 ===\")\n",
    "    print(train_df.dtypes)\n",
    "    print()\n",
    "\n",
    "if val_df is not None:\n",
    "    print(\"=== 验证集数据类型 ===\")\n",
    "    print(val_df.dtypes)\n",
    "    print()"
   ]
  },
  {
   "cell_type": "code",
   "execution_count": null,
   "metadata": {},
   "source": [
    "# 显示基本统计信息\n",
    "if train_df is not None:\n",
    "    print(\"=== 训练集基本统计信息 ===\")\n",
    "    display(train_df.describe())\n",
    "    print()\n",
    "\n",
    "if val_df is not None:\n",
    "    print(\"=== 验证集基本统计信息 ===\")\n",
    "    display(val_df.describe())\n",
    "    print()"
   ]
  },
  {
   "cell_type": "markdown",
   "metadata": {},
   "source": [
    "## 数据样本展示"
   ]
  },
  {
   "cell_type": "code",
   "execution_count": null,
   "metadata": {},
   "source": [
    "# 显示训练集前几行数据\n",
    "if train_df is not None:\n",
    "    print(\"=== 训练集样本 ===\")\n",
    "    display(train_df.head())\n",
    "    print()"
   ]
  },
  {
   "cell_type": "code",
   "execution_count": null,
   "metadata": {},
   "source": [
    "# 显示验证集前几行数据\n",
    "if val_df is not None:\n",
    "    print(\"=== 验证集样本 ===\")\n",
    "    display(val_df.head())\n",
    "    print()"
   ]
  },
  {
   "cell_type": "markdown",
   "metadata": {},
   "source": [
    "## 数据质量分析"
   ]
  },
  {
   "cell_type": "code",
   "execution_count": null,
   "metadata": {},
   "source": [
    "# 检查缺失值\n",
    "if train_df is not None:\n",
    "    print(\"=== 训练集缺失值统计 ===\")\n",
    "    missing_train = train_df.isnull().sum()\n",
    "    missing_train_pct = (missing_train / len(train_df)) * 100\n",
    "    missing_train_df = pd.DataFrame({\n",
    "        '缺失值数量': missing_train,\n",
    "        '缺失值百分比': missing_train_pct\n",
    "    })\n",
    "    display(missing_train_df[missing_train_df['缺失值数量'] > 0])\n",
    "    print()\n",
    "\n",
    "if val_df is not None:\n",
    "    print(\"=== 验证集缺失值统计 ===\")\n",
    "    missing_val = val_df.isnull().sum()\n",
    "    missing_val_pct = (missing_val / len(val_df)) * 100\n",
    "    missing_val_df = pd.DataFrame({\n",
    "        '缺失值数量': missing_val,\n",
    "        '缺失值百分比': missing_val_pct\n",
    "    })\n",
    "    display(missing_val_df[missing_val_df['缺失值数量'] > 0])\n",
    "    print()"
   ]
  },
  {
   "cell_type": "markdown",
   "metadata": {},
   "source": [
    "## 数据分布分析"
   ]
  },
  {
   "cell_type": "code",
   "execution_count": null,
   "metadata": {},
   "source": [
    "# 如果有数值型列，绘制分布图\n",
    "if train_df is not None:\n",
    "    numeric_cols = train_df.select_dtypes(include=[np.number]).columns.tolist()\n",
    "    if len(numeric_cols) > 0:\n",
    "        print(\"=== 训练集数值型列分布 ===\")\n",
    "        fig, axes = plt.subplots(len(numeric_cols), 1, figsize=(10, 4*len(numeric_cols)))\n",
    "        if len(numeric_cols) == 1:\n",
    "            axes = [axes]\n",
    "        for i, col in enumerate(numeric_cols):\n",
    "            train_df[col].hist(bins=30, ax=axes[i])\n",
    "            axes[i].set_title(f'{col} 分布')\n",
    "            axes[i].set_xlabel(col)\n",
    "            axes[i].set_ylabel('频率')\n",
    "        plt.tight_layout()\n",
    "        plt.show()\n",
    "        print()"
   ]
  },
  {
   "cell_type": "code",
   "execution_count": null,
   "metadata": {},
   "source": [
    "# 如果有分类列，显示值计数\n",
    "if train_df is not None:\n",
    "    categorical_cols = train_df.select_dtypes(include=['object']).columns.tolist()\n",
    "    if len(categorical_cols) > 0:\n",
    "        print(\"=== 训练集分类列值计数 ===\")\n",
    "        for col in categorical_cols[:5]:  # 只显示前5个分类列\n",
    "            print(f\"\\n{col} 的值计数:\")\n",
    "            value_counts = train_df[col].value_counts()\n",
    "            print(value_counts.head(10))  # 只显示前10个最常见的值\n",
    "        print()"
   ]
  },
  {
   "cell_type": "markdown",
   "metadata": {},
   "source": [
    "## 总结"
   ]
  },
  {
   "cell_type": "code",
   "execution_count": null,
   "metadata": {},
   "source": [
    "print(\"=== Euclid30K 数据集分析总结 ===\")\n",
    "print()\n",
    "\n",
    "if train_df is not None:\n",
    "    print(f\"训练集包含 {len(train_df)} 行数据和 {len(train_df.columns)} 列特征\")\n",
    "\n",
    "if val_df is not None:\n",
    "    print(f\"验证集包含 {len(val_df)} 行数据和 {len(val_df.columns)} 列特征\")\n",
    "\n",
    "print()\n",
    "print(\"数据集特点:\")\n",
    "print(\"1. 包含训练集和验证集两个部分\")\n",
    "print(\"2. 以Parquet格式存储，适合高效读取\")\n",
    "print(\"3. 包含几何问题相关的多模态数据\")\n",
    "print()\n",
    "print(\"后续可以进行的分析:\")\n",
    "print(\"1. 深入分析各列的含义和数据结构\")\n",
    "print(\"2. 可视化几何问题的分布和特征\")\n",
    "print(\"3. 探索图像和文本数据之间的关系\")\n",
    "print(\"4. 分析问题难度分布和类型分类\")"
   ]
  }
 ],
 "metadata": {
  "kernelspec": {
   "display_name": "Python 3",
   "language": "python",
   "name": "python3"
  },
  "language_info": {
   "codemirror_mode": {
    "name": "ipython",
    "version": 3
   },
   "file_extension": ".py",
   "mimetype": "text/x-python",
   "name": "python",
   "nbconvert_exporter": "python",
   "pygments_lexer": "ipython3",
   "version": "3.8.5"
  }
 },
 "nbformat": 4,
 "nbformat_minor": 4
}