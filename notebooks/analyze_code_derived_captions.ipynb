{
 "cells": [
  {
   "cell_type": "markdown",
   "metadata": {},
   "source": [
    "# Code Derived Captions 数据集分析\n",
    "\n",
    "这个notebook用于分析code_derived_captions数据集。该数据集包含从代码生成的描述性文本，用于训练视觉语言模型理解代码相关图像。"
   ]
  },
  {
   "cell_type": "code",
   "execution_count": null,
   "metadata": {},
   "outputs": [],
   "source": [
    "import pandas as pd\n",
    "import os\n",
    "import matplotlib.pyplot as plt\n",
    "import seaborn as sns\n",
    "import numpy as np\n",
    "\n",
    "# 设置数据集路径\n",
    "DATASET_PATH = \"/Users/jia/datasets/data/code_derived_captions/train\"\n",
    "\n",
    "print(\"正在检查数据集...\")\n",
    "if not os.path.exists(DATASET_PATH):\n",
    "    print(f\"错误: 数据集路径 {DATASET_PATH} 不存在\")\n",
    "else:\n",
    "    print(f\"数据集路径: {DATASET_PATH}\")"
   ]
  },
  {
   "cell_type": "code",
   "execution_count": null,
   "metadata": {},
   "outputs": [],
   "source": [
    "# 列出所有数据文件\n",
    "files = os.listdir(DATASET_PATH)\n",
    "parquet_files = [f for f in files if f.endswith(\".parquet\")]\n",
    "\n",
    "print(f\"\\n数据文件总数: {len(files)}\")\n",
    "print(f\"Parquet文件数量: {len(parquet_files)}\")\n",
    "print(f\"\\n前10个文件:\")\n",
    "for file in parquet_files[:10]:\n",
    "    print(f\"  - {file}\")"
   ]
  },
  {
   "cell_type": "code",
   "execution_count": null,
   "metadata": {},
   "outputs": [],
   "source": [
    "# 加载第一个parquet文件\n",
    "if parquet_files:\n",
    "    first_file = os.path.join(DATASET_PATH, parquet_files[0])\n",
    "    print(f\"\\n正在加载文件: {first_file}\")\n",
    "    df = pd.read_parquet(first_file)\n",
    "    print(f\"数据集形状: {df.shape}\")\n",
    "    print(f\"列名: {list(df.columns)}\")"
   ]
  },
  {
   "cell_type": "code",
   "execution_count": null,
   "metadata": {},
   "outputs": [],
   "source": [
    "# 显示数据集基本信息\n",
    "if 'df' in locals():\n",
    "    print(\"\\n数据集基本信息:\")\n",
    "    print(df.info())"
   ]
  },
  {
   "cell_type": "code",
   "execution_count": null,
   "metadata": {},
   "outputs": [],
   "source": [
    "# 显示数据集前5行\n",
    "if 'df' in locals():\n",
    "    print(\"\\n数据集前5行:\")\n",
    "    df.head()"
   ]
  },
  {
   "cell_type": "code",
   "execution_count": null,
   "metadata": {},
   "outputs": [],
   "source": [
    "# 检查数据集中的缺失值\n",
    "if 'df' in locals():\n",
    "    print(\"\\n缺失值统计:\")\n",
    "    print(df.isnull().sum())"
   ]
  },
  {
   "cell_type": "code",
   "execution_count": null,
   "metadata": {},
   "outputs": [],
   "source": [
    "# 分析caption的长度\n",
    "if 'df' in locals() and 'caption' in df.columns:\n",
    "    df['caption_length'] = df['caption'].str.len()\n",
    "    \n",
    "    print(\"\\ncaption长度统计:\")\n",
    "    print(df['caption_length'].describe())\n",
    "    \n",
    "    # 绘制caption长度分布直方图\n",
    "    plt.figure(figsize=(10, 6))\n",
    "    plt.hist(df['caption_length'], bins=50, alpha=0.7)\n",
    "    plt.title('Caption长度分布')\n",
    "    plt.xlabel('Caption长度 (字符数)')\n",
    "    plt.ylabel('频次')\n",
    "    plt.show()"
   ]
  },
  {
   "cell_type": "code",
   "execution_count": null,
   "metadata": {},
   "outputs": [],
   "source": [
    "# 分析repo_name分布\n",
    "if 'df' in locals() and 'repo_name' in df.columns:\n",
    "    print(\"\\nrepo_name分布 (前10个):\")\n",
    "    print(df['repo_name'].value_counts().head(10))"
   ]
  },
  {
   "cell_type": "code",
   "execution_count": null,
   "metadata": {},
   "outputs": [],
   "source": [
    "# 分析language分布\n",
    "if 'df' in locals() and 'language' in df.columns:\n",
    "    print(\"\\nlanguage分布:\")\n",
    "    print(df['language'].value_counts())"
   ]
  },
  {
   "cell_type": "code",
   "execution_count": null,
   "metadata": {},
   "outputs": [],
   "source": [
    "# 显示一些样本数据\n",
    "print(\"\\n样本数据:\")\n",
    "if 'df' in locals():\n",
    "    sample_size = min(5, len(df))\n",
    "    sample_df = df.sample(n=sample_size, random_state=42)\n",
    "    \n",
    "    for i in range(len(sample_df)):\n",
    "        print(f\"\\n样本 {i+1}:\")\n",
    "        row = sample_df.iloc[i]\n",
    "        \n",
    "        if 'repo_name' in row:\n",
    "            print(f\"  仓库名称: {row['repo_name']}\")\n",
    "        if 'language' in row:\n",
    "            print(f\"  编程语言: {row['language']}\")\n",
    "        if 'caption' in row:\n",
    "            caption = row['caption']\n",
    "            print(f\"  描述: {caption[:300]}{'...' if len(caption) > 300 else ''}\")\n",
    "        if 'image' in row:\n",
    "            image = row['image']\n",
    "            if image is not None and not (isinstance(image, (list, np.ndarray)) and len(image) == 0):\n",
    "                print(f\"  图像信息: 存在\")\n",
    "            else:\n",
    "                print(f\"  图像信息: 不存在\")"
   ]
  },
  {
   "cell_type": "code",
   "execution_count": null,
   "metadata": {},
   "outputs": [],
   "source": [
    "# 数据集总结\n",
    "print(\"\\n数据集总结:\")\n",
    "print(\"=\"*50)\n",
    "\n",
    "if 'parquet_files' in locals():\n",
    "    print(f\"总文件数: {len(parquet_files)}\")\n",
    "    \n",
    "if 'df' in locals():\n",
    "    print(f\"当前加载文件的样本数: {len(df)}\")\n",
    "    print(f\"列名: {list(df.columns)}\")\n",
    "\n",
    "print(\"=\"*50)\n",
    "print(\"分析完成\")"
   ]
  }
 ],
 "metadata": {
  "kernelspec": {
   "display_name": "Python 3",
   "language": "python",
   "name": "python3"
  },
  "language_info": {
   "codemirror_mode": {
    "name": "ipython",
    "version": 3
   },
   "file_extension": ".py",
   "mimetype": "text/x-python",
   "name": "python",
   "nbconvert_exporter": "python",
   "pygments_lexer": "ipython3",
   "version": "3.8.5"
  }
 },
 "nbformat": 4,
 "nbformat_minor": 4
}